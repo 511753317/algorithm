{
 "cells": [
  {
   "cell_type": "code",
   "execution_count": 17,
   "metadata": {},
   "outputs": [],
   "source": [
    "import numpy as np\n",
    "# 从scikit-learn 中导入（cluster）聚类模块；\n",
    "from sklearn.cluster import KMeans \n",
    "# scikit-learn中的度量评价指标模块\n",
    "from sklearn import metrics\n",
    "from matplotlib import pyplot as plt\n",
    "# 用于计算两个输入集合的距离\n",
    "from scipy.spatial.distance import cdist"
   ]
  },
  {
   "cell_type": "code",
   "execution_count": 9,
   "metadata": {},
   "outputs": [
    {
     "data": {
      "text/plain": [
       "array([[ 4.42375178,  4.19523955,  3.9306434 ,  3.8702256 ,  4.10866895,\n",
       "         3.56918041,  4.08203151,  3.7884792 ,  4.4172803 ,  3.73251639],\n",
       "       [ 3.68282771,  4.28306908,  4.33143124,  3.59288634,  3.80295371,\n",
       "         3.62099262,  3.65018267,  4.15064841,  4.31154149,  4.03816967]])"
      ]
     },
     "execution_count": 9,
     "metadata": {},
     "output_type": "execute_result"
    }
   ],
   "source": [
    "# 从一个均匀分布中随机采样， low,high,(维度，此维度下对应的数量)\n",
    "cluster1 = np.random.uniform(0.5,1.5,(2,10))\n",
    "cluster1\n",
    "cluster2 = np.random.uniform(3.5,4.5,(2,10))\n",
    "cluster2"
   ]
  },
  {
   "cell_type": "code",
   "execution_count": 12,
   "metadata": {},
   "outputs": [
    {
     "data": {
      "text/plain": [
       "array([[ 1.34684342,  1.08085348],\n",
       "       [ 0.98035273,  1.19242536],\n",
       "       [ 1.30901675,  1.27150097],\n",
       "       [ 0.84991845,  0.58150778],\n",
       "       [ 0.80490076,  1.07901543],\n",
       "       [ 1.19186989,  1.44116562],\n",
       "       [ 1.09229198,  1.39305525],\n",
       "       [ 1.35257444,  1.37468822],\n",
       "       [ 1.1853714 ,  1.04278242],\n",
       "       [ 0.66178577,  1.46575972],\n",
       "       [ 4.42375178,  3.68282771],\n",
       "       [ 4.19523955,  4.28306908],\n",
       "       [ 3.9306434 ,  4.33143124],\n",
       "       [ 3.8702256 ,  3.59288634],\n",
       "       [ 4.10866895,  3.80295371],\n",
       "       [ 3.56918041,  3.62099262],\n",
       "       [ 4.08203151,  3.65018267],\n",
       "       [ 3.7884792 ,  4.15064841],\n",
       "       [ 4.4172803 ,  4.31154149],\n",
       "       [ 3.73251639,  4.03816967]])"
      ]
     },
     "execution_count": 12,
     "metadata": {},
     "output_type": "execute_result"
    }
   ],
   "source": [
    "# 这个相当于通过两个离群点进行连接，对应列连接,并转置\n",
    "X = np.hstack((cluster1,cluster2)).T\n",
    "X"
   ]
  },
  {
   "cell_type": "code",
   "execution_count": 15,
   "metadata": {},
   "outputs": [
    {
     "data": {
      "text/plain": [
       "[<matplotlib.lines.Line2D at 0x130bfd55400>]"
      ]
     },
     "execution_count": 15,
     "metadata": {},
     "output_type": "execute_result"
    },
    {
     "data": {
      "image/png": "[encoded data removed]",
      "text/plain": [
       "<matplotlib.figure.Figure at 0x130bfd55f60>"
      ]
     },
     "metadata": {},
     "output_type": "display_data"
    }
   ],
   "source": [
    "plt.axis([0,5,0,5])\n",
    "plt.grid(True)\n",
    "plt.plot(X[:,0],X[:,1],'k.')\n",
    "# 画图设置x,y轴的显示坐标，可以看到如下图的两簇"
   ]
  },
  {
   "cell_type": "code",
   "execution_count": 18,
   "metadata": {},
   "outputs": [],
   "source": [
    "K = range(1, 10) # 设置K 聚类的分类数\n",
    "meandistortions = [] # 存放每个的平均损失"
   ]
  },
  {
   "cell_type": "markdown",
   "metadata": {},
   "source": [
    "```\n",
    "Kmeans初始化：返回数据为\n",
    "sklearn.cluster.KMeans(n_clusters=8,\n",
    "     init='k-means++', \n",
    "    n_init=10, \n",
    "    max_iter=300, \n",
    "    tol=0.0001, \n",
    "    precompute_distances='auto', \n",
    "    verbose=0, \n",
    "    random_state=None, \n",
    "    copy_x=True, \n",
    "    n_jobs=1, \n",
    "    algorithm='auto'\n",
    "    )\n",
    "```\n",
    "参数的意义：\n",
    " - n_clusters:簇的个数，即你想聚成几类\n",
    " - init: 初始簇中心的获取方法\n",
    " - n_init: 获取初始簇中心的更迭次数\n",
    " - max_iter: 最大迭代次数（因为kmeans算法的实现需要迭代）\n",
    " - tol: 容忍度，即kmeans运行准则收敛的条件\n",
    " - precompute_distances：是否需要提前计算距离\n",
    " - verbose: 冗长模式（不太懂是啥意思，反正一般不去改默认值）\n",
    " - random_state: 随机生成簇中心的状态条件。\n",
    " - copy_x: 对是否修改数据的一个标记，如果True，即复制了就不会修改数据。\n",
    " - n_jobs: 并行设置\n",
    " - algorithm: kmeans的实现算法，有：'auto', 'full', 'elkan', 其中 'full'表示用EM方式实现\n",
    " \n",
    " print('kmeans.cluster_centers_',kmeans.cluster_centers_) # 返回聚类中心点的向量矩阵（坐标）\n",
    " print('kmeans.labels_',kmeans.labels_) # 表明是K类中第几个聚类\n",
    " print('kmeans.inertia_',kmeans.inertia_) # 代表聚类中心均值向量的总和，#用来评估簇的个数是否合适，距离越小说明簇分的越好，选取临界点的簇个\n",
    " print('kmeans.n_iter_',kmeans.n_iter_)  # 聚类完成迭代次数\n"
   ]
  },
  {
   "cell_type": "markdown",
   "metadata": {},
   "source": [
    " ```cdist(XA, XB, metric='euclidean', *args, **kwargs)、```\n",
    " - 该函数用于计算两个输入集合的距离，通过metric参数指定计算距离的不同方式得到不同的距离度量值metric的取值(22种公有)如下：\n",
    " - chebyshev：切比雪夫距离\n",
    " - correlation：相关系数\n",
    " - euclidean：欧式距离\n",
    " - hamming：汉明距离\n",
    " - jaccard：杰卡德相似系数\n",
    " - mahalanobis：马氏距离\n",
    " - minkowski：闵可夫斯基距离\n",
    " - seuclidean：标准化欧式距离"
   ]
  },
  {
   "cell_type": "code",
   "execution_count": 29,
   "metadata": {},
   "outputs": [
    {
     "data": {
      "text/plain": [
       "array([[ 0.29148711,  3.91328027],\n",
       "       [ 0.09713995,  4.0956619 ],\n",
       "       [ 0.24470419,  3.80269739],\n",
       "       [ 0.65178761,  4.61741036],\n",
       "       [ 0.29518488,  4.30191947],\n",
       "       [ 0.27391331,  3.77207728],\n",
       "       [ 0.20132452,  3.87859065],\n",
       "       [ 0.33006737,  3.69939897],\n",
       "       [ 0.18435293,  4.05217369],\n",
       "       [ 0.49760003,  4.16851673],\n",
       "       [ 4.17136686,  0.48909127],\n",
       "       [ 4.39014256,  0.38333821],\n",
       "       [ 4.24202416,  0.39342293],\n",
       "       [ 3.68270154,  0.38087453],\n",
       "       [ 4.0004589 ,  0.17314812],\n",
       "       [ 3.47953669,  0.54940816],\n",
       "       [ 3.88182461,  0.30449726],\n",
       "       [ 4.01265739,  0.30259155],\n",
       "       [ 4.56990185,  0.54560963],\n",
       "       [ 3.89207728,  0.29395419]])"
      ]
     },
     "execution_count": 29,
     "metadata": {},
     "output_type": "execute_result"
    }
   ],
   "source": [
    "kmeans = KMeans(n_clusters=2)\n",
    "kmeans.fit(X)\n",
    "# kmeans.cluster_centers_ 的值为：[ 1.07749256  1.19227542],[ 4.01180171  3.94647029]\n",
    "cdist(X, kmeans.cluster_centers_, 'euclidean') # 每一列是一个点到两个中心的分别欧式距离"
   ]
  },
  {
   "cell_type": "code",
   "execution_count": 33,
   "metadata": {},
   "outputs": [
    {
     "data": {
      "text/plain": [
       "20"
      ]
     },
     "execution_count": 33,
     "metadata": {},
     "output_type": "execute_result"
    }
   ],
   "source": [
    "np.min([[1,2],[3,4]],axis=0)\n",
    "X.shape[0]"
   ]
  },
  {
   "cell_type": "code",
   "execution_count": 35,
   "metadata": {},
   "outputs": [],
   "source": [
    "for k in K: # 对每一个分类值进行循环实验\n",
    "    kmeans = KMeans(n_clusters=k) # 使用KMeans算法进行,生成KMeans对象\n",
    "    kmeans.fit(X) # 聚类内容拟合，这一步调用会得到cluster_centers_，labels_，inertia_，n_iter_四个数据\n",
    "    # X样本点，中心点，使用欧式距离进行计算；np.min(距离, axis=1) 找到每一个行中最小，求和，最后X.shape[0] 为20这样求的最小距离平均。总体损失最小\n",
    "    meandistortions.append(sum(np.min(cdist(X, kmeans.cluster_centers_, 'euclidean'), axis=1)) / X.shape[0])"
   ]
  },
  {
   "cell_type": "code",
   "execution_count": 37,
   "metadata": {},
   "outputs": [
    {
     "data": {
      "image/png": "[encoded data removed]",
      "text/plain": [
       "<matplotlib.figure.Figure at 0x130c08ec978>"
      ]
     },
     "metadata": {},
     "output_type": "display_data"
    }
   ],
   "source": [
    "plt.plot(K,meandistortions,'bx-') # 通过总体损失最小和对应的K值画出肘部趋势线\n",
    "plt.xlabel('k')\n",
    "plt.ylabel('Ave Distor')\n",
    "plt.title('Elbow method value K')\n",
    "plt.show()"
   ]
  },
  {
   "cell_type": "code",
   "execution_count": null,
   "metadata": {},
   "outputs": [],
   "source": []
  }
 ],
 "metadata": {
  "kernelspec": {
   "display_name": "Python 3",
   "language": "python",
   "name": "python3"
  },
  "language_info": {
   "codemirror_mode": {
    "name": "ipython",
    "version": 3
   },
   "file_extension": ".py",
   "mimetype": "text/x-python",
   "name": "python",
   "nbconvert_exporter": "python",
   "pygments_lexer": "ipython3",
   "version": "3.6.4"
  }
 },
 "nbformat": 4,
 "nbformat_minor": 2
}
